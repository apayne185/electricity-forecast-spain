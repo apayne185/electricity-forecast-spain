{
 "cells": [
  {
   "cell_type": "markdown",
   "metadata": {},
   "source": [
    "## Import Necesary Libraries"
   ]
  },
  {
   "cell_type": "code",
   "execution_count": 60,
   "metadata": {},
   "outputs": [],
   "source": [
    "import pandas as pd"
   ]
  },
  {
   "cell_type": "markdown",
   "metadata": {},
   "source": [
    "## Load Datasets"
   ]
  },
  {
   "cell_type": "code",
   "execution_count": 61,
   "metadata": {},
   "outputs": [],
   "source": [
    "df_omie_labelled = pd.read_csv('data\\\\df_omie_labelled.csv')\n",
    "filtered_categories = pd.read_csv('data\\\\filtered_categories.csv')"
   ]
  },
  {
   "cell_type": "markdown",
   "metadata": {},
   "source": [
    "## Merge Datasets\n",
    "\n",
    "Add the technology type (Wind/Solar)"
   ]
  },
  {
   "cell_type": "code",
   "execution_count": 62,
   "metadata": {},
   "outputs": [],
   "source": [
    "df = pd.merge(df_omie_labelled, filtered_categories, on='Codigo', how='left')"
   ]
  },
  {
   "cell_type": "code",
   "execution_count": 63,
   "metadata": {},
   "outputs": [
    {
     "name": "stdout",
     "output_type": "stream",
     "text": [
      "<class 'pandas.core.frame.DataFrame'>\n",
      "RangeIndex: 2409526 entries, 0 to 2409525\n",
      "Data columns (total 6 columns):\n",
      " #   Column       Dtype  \n",
      "---  ------       -----  \n",
      " 0   Codigo       object \n",
      " 1   Descripcion  object \n",
      " 2   fechaHora    object \n",
      " 3   PrecEuro     float64\n",
      " 4   Energia      float64\n",
      " 5   Categoria    object \n",
      "dtypes: float64(2), object(4)\n",
      "memory usage: 110.3+ MB\n"
     ]
    }
   ],
   "source": [
    "df.info()"
   ]
  },
  {
   "cell_type": "markdown",
   "metadata": {},
   "source": [
    "## Change Data Types\n",
    "\n",
    "Change fechaHora to Datetime data type"
   ]
  },
  {
   "cell_type": "code",
   "execution_count": 64,
   "metadata": {},
   "outputs": [],
   "source": [
    "df[\"fechaHora\"] = pd.to_datetime(df[\"fechaHora\"])"
   ]
  },
  {
   "cell_type": "markdown",
   "metadata": {},
   "source": [
    "## Create time-based features\n",
    "\n",
    "Split datatime into hour, day of week and month"
   ]
  },
  {
   "cell_type": "code",
   "execution_count": 65,
   "metadata": {},
   "outputs": [],
   "source": [
    "df['hour'] = df['fechaHora'].dt.hour\n",
    "df['day_of_week'] = df['fechaHora'].dt.dayofweek\n",
    "df['month'] = df['fechaHora'].dt.month"
   ]
  },
  {
   "cell_type": "markdown",
   "metadata": {},
   "source": [
    "## Closer look to extra variables"
   ]
  },
  {
   "cell_type": "code",
   "execution_count": 66,
   "metadata": {},
   "outputs": [
    {
     "data": {
      "text/html": [
       "<div>\n",
       "<style scoped>\n",
       "    .dataframe tbody tr th:only-of-type {\n",
       "        vertical-align: middle;\n",
       "    }\n",
       "\n",
       "    .dataframe tbody tr th {\n",
       "        vertical-align: top;\n",
       "    }\n",
       "\n",
       "    .dataframe thead th {\n",
       "        text-align: right;\n",
       "    }\n",
       "</style>\n",
       "<table border=\"1\" class=\"dataframe\">\n",
       "  <thead>\n",
       "    <tr style=\"text-align: right;\">\n",
       "      <th></th>\n",
       "      <th>Codigo</th>\n",
       "      <th>Descripción</th>\n",
       "      <th>Agente</th>\n",
       "      <th>Porcentaje_Propiedad</th>\n",
       "      <th>Tipo_Unidad</th>\n",
       "      <th>Zona/Frontera</th>\n",
       "      <th>Tecnología</th>\n",
       "    </tr>\n",
       "  </thead>\n",
       "  <tbody>\n",
       "    <tr>\n",
       "      <th>0</th>\n",
       "      <td>AFIBGEC</td>\n",
       "      <td>ALMACENAMIENTO COMPRA</td>\n",
       "      <td>IBERDROLA ENERGÍA ESPAÑA S..A.</td>\n",
       "      <td>100.0</td>\n",
       "      <td>ALMACENAMIENTO</td>\n",
       "      <td>ZONA ESPAÑOLA</td>\n",
       "      <td>Almacenamiento Compra</td>\n",
       "    </tr>\n",
       "    <tr>\n",
       "      <th>1</th>\n",
       "      <td>AFIBHEC</td>\n",
       "      <td>COMPRA HIBRIDACION EOLICA BAT</td>\n",
       "      <td>IBERDROLA ENERGÍA ESPAÑA S..A.</td>\n",
       "      <td>100.0</td>\n",
       "      <td>ALMACENAMIENTO</td>\n",
       "      <td>ZONA ESPAÑOLA</td>\n",
       "      <td>Almacenamiento Compra</td>\n",
       "    </tr>\n",
       "    <tr>\n",
       "      <th>2</th>\n",
       "      <td>AFIBHFC</td>\n",
       "      <td>COMPRA HIBRIDACION FV BATERIA</td>\n",
       "      <td>IBERDROLA ENERGÍA ESPAÑA S..A.</td>\n",
       "      <td>100.0</td>\n",
       "      <td>ALMACENAMIENTO</td>\n",
       "      <td>ZONA ESPAÑOLA</td>\n",
       "      <td>Almacenamiento Compra</td>\n",
       "    </tr>\n",
       "    <tr>\n",
       "      <th>3</th>\n",
       "      <td>ACAVADB</td>\n",
       "      <td>BOMBAS DO CAVADO</td>\n",
       "      <td>EDP GEM PORTUGAL S.A.</td>\n",
       "      <td>100.0</td>\n",
       "      <td>BOMBEO</td>\n",
       "      <td>ZONA PORTUGUESA</td>\n",
       "      <td>Consumo Bombeo Mixto</td>\n",
       "    </tr>\n",
       "    <tr>\n",
       "      <th>4</th>\n",
       "      <td>ADOUROB</td>\n",
       "      <td>BOMBA DO DOURO</td>\n",
       "      <td>EDP GEM PORTUGAL S.A.</td>\n",
       "      <td>100.0</td>\n",
       "      <td>BOMBEO</td>\n",
       "      <td>ZONA PORTUGUESA</td>\n",
       "      <td>Consumo Bombeo Mixto</td>\n",
       "    </tr>\n",
       "  </tbody>\n",
       "</table>\n",
       "</div>"
      ],
      "text/plain": [
       "    Codigo                    Descripción                          Agente  \\\n",
       "0  AFIBGEC          ALMACENAMIENTO COMPRA  IBERDROLA ENERGÍA ESPAÑA S..A.   \n",
       "1  AFIBHEC  COMPRA HIBRIDACION EOLICA BAT  IBERDROLA ENERGÍA ESPAÑA S..A.   \n",
       "2  AFIBHFC  COMPRA HIBRIDACION FV BATERIA  IBERDROLA ENERGÍA ESPAÑA S..A.   \n",
       "3  ACAVADB               BOMBAS DO CAVADO           EDP GEM PORTUGAL S.A.   \n",
       "4  ADOUROB                 BOMBA DO DOURO           EDP GEM PORTUGAL S.A.   \n",
       "\n",
       "   Porcentaje_Propiedad     Tipo_Unidad    Zona/Frontera  \\\n",
       "0                 100.0  ALMACENAMIENTO    ZONA ESPAÑOLA   \n",
       "1                 100.0  ALMACENAMIENTO    ZONA ESPAÑOLA   \n",
       "2                 100.0  ALMACENAMIENTO    ZONA ESPAÑOLA   \n",
       "3                 100.0          BOMBEO  ZONA PORTUGUESA   \n",
       "4                 100.0          BOMBEO  ZONA PORTUGUESA   \n",
       "\n",
       "              Tecnología  \n",
       "0  Almacenamiento Compra  \n",
       "1  Almacenamiento Compra  \n",
       "2  Almacenamiento Compra  \n",
       "3   Consumo Bombeo Mixto  \n",
       "4   Consumo Bombeo Mixto  "
      ]
     },
     "execution_count": 66,
     "metadata": {},
     "output_type": "execute_result"
    }
   ],
   "source": [
    "unit_list = pd.read_csv('data\\\\unit_list.csv')\n",
    "unit_list.head()"
   ]
  },
  {
   "cell_type": "markdown",
   "metadata": {},
   "source": [
    "Tipo_Unidad not necessary, as all codes in the `df_omie_labelled` dataset refer to a \"Generacion\" type.\n",
    "\n",
    "Zona/Frontera not necessary, as all codes in the `df_omie_labelled` dataset refer to a \"ZONA ESPAÑOLA\".\n",
    "\n",
    "We will keep Tecnologia column and label encode it."
   ]
  },
  {
   "cell_type": "markdown",
   "metadata": {},
   "source": [
    "## Tecnologia Merging"
   ]
  },
  {
   "cell_type": "code",
   "execution_count": 67,
   "metadata": {},
   "outputs": [],
   "source": [
    "df = pd.merge(df, unit_list, on='Codigo', how='left')\n",
    "df = df.drop(columns=['Descripción', 'Agente', 'Porcentaje_Propiedad', 'Tipo_Unidad', 'Zona/Frontera'])"
   ]
  },
  {
   "cell_type": "markdown",
   "metadata": {},
   "source": [
    "## Encoding Categorical Variables"
   ]
  },
  {
   "cell_type": "code",
   "execution_count": 68,
   "metadata": {},
   "outputs": [],
   "source": [
    "df = pd.get_dummies(df, columns=[\"Categoria\", \"Tecnología\"], drop_first=True)"
   ]
  },
  {
   "cell_type": "markdown",
   "metadata": {},
   "source": [
    "## Final Dataset Overview"
   ]
  },
  {
   "cell_type": "code",
   "execution_count": 69,
   "metadata": {},
   "outputs": [
    {
     "name": "stdout",
     "output_type": "stream",
     "text": [
      "<class 'pandas.core.frame.DataFrame'>\n",
      "RangeIndex: 2409526 entries, 0 to 2409525\n",
      "Data columns (total 13 columns):\n",
      " #   Column                                     Dtype         \n",
      "---  ------                                     -----         \n",
      " 0   Codigo                                     object        \n",
      " 1   Descripcion                                object        \n",
      " 2   fechaHora                                  datetime64[ns]\n",
      " 3   PrecEuro                                   float64       \n",
      " 4   Energia                                    float64       \n",
      " 5   hour                                       int32         \n",
      " 6   day_of_week                                int32         \n",
      " 7   month                                      int32         \n",
      " 8   Categoria_Solar                            bool          \n",
      " 9   Tecnología_RE Mercado Solar Fotovoltáica   bool          \n",
      " 10  Tecnología_RE Mercado Solar Térmica        bool          \n",
      " 11  Tecnología_RE Tar. CUR Eólica              bool          \n",
      " 12  Tecnología_RE Tar. CUR Solar Fotovoltáica  bool          \n",
      "dtypes: bool(5), datetime64[ns](1), float64(2), int32(3), object(2)\n",
      "memory usage: 131.0+ MB\n"
     ]
    },
    {
     "data": {
      "text/html": [
       "<div>\n",
       "<style scoped>\n",
       "    .dataframe tbody tr th:only-of-type {\n",
       "        vertical-align: middle;\n",
       "    }\n",
       "\n",
       "    .dataframe tbody tr th {\n",
       "        vertical-align: top;\n",
       "    }\n",
       "\n",
       "    .dataframe thead th {\n",
       "        text-align: right;\n",
       "    }\n",
       "</style>\n",
       "<table border=\"1\" class=\"dataframe\">\n",
       "  <thead>\n",
       "    <tr style=\"text-align: right;\">\n",
       "      <th></th>\n",
       "      <th>Codigo</th>\n",
       "      <th>Descripcion</th>\n",
       "      <th>fechaHora</th>\n",
       "      <th>PrecEuro</th>\n",
       "      <th>Energia</th>\n",
       "      <th>hour</th>\n",
       "      <th>day_of_week</th>\n",
       "      <th>month</th>\n",
       "      <th>Categoria_Solar</th>\n",
       "      <th>Tecnología_RE Mercado Solar Fotovoltáica</th>\n",
       "      <th>Tecnología_RE Mercado Solar Térmica</th>\n",
       "      <th>Tecnología_RE Tar. CUR Eólica</th>\n",
       "      <th>Tecnología_RE Tar. CUR Solar Fotovoltáica</th>\n",
       "    </tr>\n",
       "  </thead>\n",
       "  <tbody>\n",
       "    <tr>\n",
       "      <th>0</th>\n",
       "      <td>ADXRE01</td>\n",
       "      <td>PREAL1</td>\n",
       "      <td>2024-02-29</td>\n",
       "      <td>0.0</td>\n",
       "      <td>0.0</td>\n",
       "      <td>0</td>\n",
       "      <td>3</td>\n",
       "      <td>2</td>\n",
       "      <td>True</td>\n",
       "      <td>True</td>\n",
       "      <td>False</td>\n",
       "      <td>False</td>\n",
       "      <td>False</td>\n",
       "    </tr>\n",
       "    <tr>\n",
       "      <th>1</th>\n",
       "      <td>ADXVD03</td>\n",
       "      <td>PV ALARCOS</td>\n",
       "      <td>2024-02-29</td>\n",
       "      <td>0.0</td>\n",
       "      <td>0.0</td>\n",
       "      <td>0</td>\n",
       "      <td>3</td>\n",
       "      <td>2</td>\n",
       "      <td>True</td>\n",
       "      <td>True</td>\n",
       "      <td>False</td>\n",
       "      <td>False</td>\n",
       "      <td>False</td>\n",
       "    </tr>\n",
       "    <tr>\n",
       "      <th>2</th>\n",
       "      <td>ADXVD04</td>\n",
       "      <td>EOLICA AUDAX</td>\n",
       "      <td>2024-02-29</td>\n",
       "      <td>-0.1</td>\n",
       "      <td>2.7</td>\n",
       "      <td>0</td>\n",
       "      <td>3</td>\n",
       "      <td>2</td>\n",
       "      <td>False</td>\n",
       "      <td>False</td>\n",
       "      <td>False</td>\n",
       "      <td>False</td>\n",
       "      <td>False</td>\n",
       "    </tr>\n",
       "    <tr>\n",
       "      <th>3</th>\n",
       "      <td>AIRVD01</td>\n",
       "      <td>AIRVD01</td>\n",
       "      <td>2024-02-29</td>\n",
       "      <td>0.0</td>\n",
       "      <td>0.0</td>\n",
       "      <td>0</td>\n",
       "      <td>3</td>\n",
       "      <td>2</td>\n",
       "      <td>True</td>\n",
       "      <td>True</td>\n",
       "      <td>False</td>\n",
       "      <td>False</td>\n",
       "      <td>False</td>\n",
       "    </tr>\n",
       "    <tr>\n",
       "      <th>4</th>\n",
       "      <td>AIRVD02</td>\n",
       "      <td>AIRVD02</td>\n",
       "      <td>2024-02-29</td>\n",
       "      <td>0.0</td>\n",
       "      <td>0.0</td>\n",
       "      <td>0</td>\n",
       "      <td>3</td>\n",
       "      <td>2</td>\n",
       "      <td>True</td>\n",
       "      <td>True</td>\n",
       "      <td>False</td>\n",
       "      <td>False</td>\n",
       "      <td>False</td>\n",
       "    </tr>\n",
       "  </tbody>\n",
       "</table>\n",
       "</div>"
      ],
      "text/plain": [
       "    Codigo   Descripcion  fechaHora  PrecEuro  Energia  hour  day_of_week  \\\n",
       "0  ADXRE01        PREAL1 2024-02-29       0.0      0.0     0            3   \n",
       "1  ADXVD03    PV ALARCOS 2024-02-29       0.0      0.0     0            3   \n",
       "2  ADXVD04  EOLICA AUDAX 2024-02-29      -0.1      2.7     0            3   \n",
       "3  AIRVD01       AIRVD01 2024-02-29       0.0      0.0     0            3   \n",
       "4  AIRVD02       AIRVD02 2024-02-29       0.0      0.0     0            3   \n",
       "\n",
       "   month  Categoria_Solar  Tecnología_RE Mercado Solar Fotovoltáica  \\\n",
       "0      2             True                                      True   \n",
       "1      2             True                                      True   \n",
       "2      2            False                                     False   \n",
       "3      2             True                                      True   \n",
       "4      2             True                                      True   \n",
       "\n",
       "   Tecnología_RE Mercado Solar Térmica  Tecnología_RE Tar. CUR Eólica  \\\n",
       "0                                False                          False   \n",
       "1                                False                          False   \n",
       "2                                False                          False   \n",
       "3                                False                          False   \n",
       "4                                False                          False   \n",
       "\n",
       "   Tecnología_RE Tar. CUR Solar Fotovoltáica  \n",
       "0                                      False  \n",
       "1                                      False  \n",
       "2                                      False  \n",
       "3                                      False  \n",
       "4                                      False  "
      ]
     },
     "execution_count": 69,
     "metadata": {},
     "output_type": "execute_result"
    }
   ],
   "source": [
    "df.info()\n",
    "df.head()"
   ]
  }
 ],
 "metadata": {
  "kernelspec": {
   "display_name": "Python 3",
   "language": "python",
   "name": "python3"
  },
  "language_info": {
   "codemirror_mode": {
    "name": "ipython",
    "version": 3
   },
   "file_extension": ".py",
   "mimetype": "text/x-python",
   "name": "python",
   "nbconvert_exporter": "python",
   "pygments_lexer": "ipython3",
   "version": "3.12.1"
  }
 },
 "nbformat": 4,
 "nbformat_minor": 2
}
